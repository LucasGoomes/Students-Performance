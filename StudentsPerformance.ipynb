{
  "nbformat": 4,
  "nbformat_minor": 0,
  "metadata": {
    "colab": {
      "provenance": [],
      "authorship_tag": "ABX9TyMSX8DAOaI13XH9Ggq/y6yq"
    },
    "kernelspec": {
      "name": "python3",
      "display_name": "Python 3"
    },
    "language_info": {
      "name": "python"
    }
  },
  "cells": [
    {
      "cell_type": "code",
      "execution_count": null,
      "metadata": {
        "id": "X_2OFjor1L6h"
      },
      "outputs": [],
      "source": [
        "#bibliotecas\n",
        "import numpy as np\n",
        "import pandas as pd\n",
        "import matplotlib.pyplot as plt\n",
        "import warnings\n",
        "import seaborn as sns"
      ]
    },
    {
      "cell_type": "code",
      "source": [
        "#carregando o arquivo\n",
        "db = pd.read_csv('StudentsPerformance.csv')"
      ],
      "metadata": {
        "id": "ExpRZcB21apN"
      },
      "execution_count": null,
      "outputs": []
    },
    {
      "cell_type": "code",
      "source": [
        "#verificando a organização dos dados\n",
        "db.shape"
      ],
      "metadata": {
        "id": "aRIf3wRs1sr8"
      },
      "execution_count": null,
      "outputs": []
    },
    {
      "cell_type": "code",
      "source": [
        "db.head()"
      ],
      "metadata": {
        "id": "c-fx2-i41usL"
      },
      "execution_count": null,
      "outputs": []
    },
    {
      "cell_type": "code",
      "source": [
        "nulls = db.isnull()\n",
        "plt.figure(figsize=(16,5))\n",
        "plt.title('Campos nulos')\n",
        "sns.heatmap(nulls, cbar=False)"
      ],
      "metadata": {
        "id": "jaLB4cVt2Av9"
      },
      "execution_count": null,
      "outputs": []
    },
    {
      "cell_type": "code",
      "source": [
        "db.isnull().sum()"
      ],
      "metadata": {
        "id": "QeJ8IMju2sY3"
      },
      "execution_count": null,
      "outputs": []
    },
    {
      "cell_type": "code",
      "source": [
        "db.nunique()"
      ],
      "metadata": {
        "id": "PKaAVy573BPe"
      },
      "execution_count": null,
      "outputs": []
    },
    {
      "cell_type": "code",
      "source": [
        "db.duplicated().sum()"
      ],
      "metadata": {
        "id": "oVba2LkV3MJy"
      },
      "execution_count": null,
      "outputs": []
    },
    {
      "cell_type": "code",
      "source": [
        "db.info()"
      ],
      "metadata": {
        "id": "0W4IIRkO3dsd"
      },
      "execution_count": null,
      "outputs": []
    },
    {
      "cell_type": "code",
      "source": [
        "db.describe()"
      ],
      "metadata": {
        "id": "v9TnpJ-m3SBl"
      },
      "execution_count": null,
      "outputs": []
    },
    {
      "cell_type": "code",
      "source": [
        "#verificando a porcentagem de cada genero presente nos dados\n",
        "db['gender'].value_counts(normalize=True) * 100"
      ],
      "metadata": {
        "id": "fEUiKBF64Cce"
      },
      "execution_count": null,
      "outputs": []
    },
    {
      "cell_type": "code",
      "source": [
        "#verificando a porcentagem de cada etnia presente nos dados\n",
        "db['race/ethnicity'].value_counts(normalize=True) * 100"
      ],
      "metadata": {
        "id": "yJ2b_0Zp4Ogk"
      },
      "execution_count": null,
      "outputs": []
    },
    {
      "cell_type": "code",
      "source": [
        "#verificando a porcentagem de cada nivel de educação dos pais presente nos dados\n",
        "db['parental level of education'].value_counts(normalize=True) * 100"
      ],
      "metadata": {
        "id": "7f6mgtyk4rdw"
      },
      "execution_count": null,
      "outputs": []
    },
    {
      "cell_type": "code",
      "source": [
        "#verificando a porcentagem de pessoas que escolheram o almoço padrao ou reduzido\n",
        "db['lunch'].value_counts(normalize=True) * 100"
      ],
      "metadata": {
        "id": "4n9xnC0F4sa4"
      },
      "execution_count": null,
      "outputs": []
    },
    {
      "cell_type": "code",
      "source": [
        "#verificando a porcentagem de pessoas que fizeram curso preparatorio\n",
        "db['test preparation course'].value_counts(normalize=True) * 100"
      ],
      "metadata": {
        "id": "3bryQT4A4zQW"
      },
      "execution_count": null,
      "outputs": []
    },
    {
      "cell_type": "code",
      "source": [
        "#distribuição das notas de matematica observadas em cada genero\n",
        "sns.boxplot(data=db, x = 'math score', y='gender')"
      ],
      "metadata": {
        "id": "wPo8ddYlSbyA"
      },
      "execution_count": null,
      "outputs": []
    },
    {
      "cell_type": "code",
      "source": [
        "#distribuição das notas de leitura observadas em cada genero\n",
        "sns.boxplot(data=db, x = 'reading score', y='gender')"
      ],
      "metadata": {
        "id": "avBW6dLBTNKv"
      },
      "execution_count": null,
      "outputs": []
    },
    {
      "cell_type": "code",
      "source": [
        "#distribuição das notas de escrita observadas em cada genero\n",
        "sns.boxplot(data=db, x = 'writing score', y='gender')"
      ],
      "metadata": {
        "id": "okwXNBT5SZpQ"
      },
      "execution_count": null,
      "outputs": []
    },
    {
      "cell_type": "code",
      "source": [
        "#verificando a estatistica descritiva agrupada por genero\n",
        "db.groupby(by=['gender']).describe()"
      ],
      "metadata": {
        "id": "Ug87xeWQTjM2"
      },
      "execution_count": null,
      "outputs": []
    },
    {
      "cell_type": "code",
      "source": [
        "db.groupby(by=['gender']).describe()['math score'].reset_index()"
      ],
      "metadata": {
        "id": "y1ECDxF_Tvxd"
      },
      "execution_count": null,
      "outputs": []
    },
    {
      "cell_type": "code",
      "source": [
        "#grid com graficos das variaveis numericas\n",
        "sns.pairplot(db)"
      ],
      "metadata": {
        "id": "wKlFLYboUDBt"
      },
      "execution_count": null,
      "outputs": []
    },
    {
      "cell_type": "code",
      "source": [
        "#grid com os graficos das variaveis numericas, mas com o relacionamento entre as etnias\n",
        "sns.pairplot(db, hue='race/ethnicity')"
      ],
      "metadata": {
        "id": "O_dXW9VcUqLj"
      },
      "execution_count": null,
      "outputs": []
    },
    {
      "cell_type": "code",
      "source": [
        "#distribuição das notas de matematica observadas em cada etnia\n",
        "sns.boxplot(data=db, x='math score', y='race/ethnicity')"
      ],
      "metadata": {
        "id": "_KnPItDxVCCT"
      },
      "execution_count": null,
      "outputs": []
    },
    {
      "cell_type": "code",
      "source": [
        "#distribuição das notas de matematica observadas em cada nivel de educação dos pais\n",
        "sns.boxplot(data=db, x='math score', y='parental level of education')"
      ],
      "metadata": {
        "id": "UvSz460_WPXo"
      },
      "execution_count": null,
      "outputs": []
    },
    {
      "cell_type": "code",
      "source": [
        "#distribuição das notas de matematica observadas em pessoas que fizeram ou nao curso preparatorio\n",
        "sns.boxplot(data=db, x='math score', y='test preparation course')"
      ],
      "metadata": {
        "id": "SgUtrMheXBPr"
      },
      "execution_count": null,
      "outputs": []
    },
    {
      "cell_type": "code",
      "source": [
        "#relação entre as notas de matematica e de escrita\n",
        "sns.scatterplot(data=db, x='math score', y='writing score')"
      ],
      "metadata": {
        "id": "eat7c9wBXibf"
      },
      "execution_count": null,
      "outputs": []
    }
  ]
}